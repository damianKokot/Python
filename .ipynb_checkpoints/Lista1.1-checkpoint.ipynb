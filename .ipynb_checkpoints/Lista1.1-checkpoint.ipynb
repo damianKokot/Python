{
 "cells": [
  {
   "cell_type": "markdown",
   "metadata": {},
   "source": [
    "# Lista 1\n",
    "\n",
    "## Kurs wybranego jÄ™zyka programowania (Python)\n",
    "\n",
    "Wszystkie rozwiÄ…zania proszÄ™ wpisaÄ‡ w tym notatniku poniÅ¼ej treÅ›ci zadaÅ„. Zadania z `*` to zadania dodatkowe."
   ]
  },
  {
   "cell_type": "markdown",
   "metadata": {},
   "source": [
    "## Zadanie 1 _(5pt)_\n",
    "\n",
    "Napisz funkcjÄ™, ktÃ³ry wyÅ›wietla trÃ³jkÄ…t Pascala o zadanej wysokoÅ›ci\n",
    "```\n",
    "                1\n",
    "              1   1\n",
    "            1   2   1\n",
    "          1   3   3   1\n",
    "        1   4   6   4   1\n",
    "      .....................\n",
    "```"
   ]
  },
  {
   "cell_type": "code",
   "execution_count": 2,
   "metadata": {},
   "outputs": [
    {
     "name": "stdout",
     "output_type": "stream",
     "text": [
      "        1\n",
      "       1 1\n",
      "      1 2 1\n",
      "     1 3 3 1\n",
      "    1 4 6 4 1\n",
      "  1 5 10 10 5 1\n",
      "1 6 15 20 15 6 1\n",
      "\n"
     ]
    }
   ],
   "source": [
    "def getTrinangle(n): \n",
    "   trinangle = []\n",
    "\n",
    "   if n > 1:\n",
    "      trinangle.append([1])\n",
    "\n",
    "   for depth in range(1, n):\n",
    "      lastRow = trinangle[-1]\n",
    "      trinangle.append([1])\n",
    "\n",
    "      for i in range(1, len(lastRow)):\n",
    "         trinangle[depth].append(lastRow[i] + lastRow[i - 1])\n",
    "      \n",
    "      trinangle[depth].append(1)   \n",
    "   \n",
    "   values = []\n",
    "   for row in trinangle:\n",
    "      values.append(list(map(str, row)))\n",
    "   \n",
    "   return values \n",
    "\n",
    "def getCenterOfRow (row):\n",
    "   out = \" \".join(row)\n",
    "   return len(out) // 2\n",
    "\n",
    "def pascal_trinangle(n):\n",
    "   trinangle = getTrinangle(n)\n",
    "   center = getCenterOfRow(trinangle[-1])\n",
    "   outputString = ''\n",
    "\n",
    "   for row in trinangle:\n",
    "      outputString += ' ' * (center - getCenterOfRow(row))\n",
    "      outputString += ' '.join(row)\n",
    "      outputString += '\\n'\n",
    "   return outputString\n",
    "\n",
    "print(pascal_trinangle(7))"
   ]
  },
  {
   "cell_type": "markdown",
   "metadata": {},
   "source": [
    "## Zadanie 2 _(5pt)_\n",
    "\n",
    "Napisz funkcjÄ™ `primes(n)` zwracajÄ…ca listÄ™ liczb pierwszych nie wiÄ™kszych niÅ¼ $n$ np.\n",
    "\n",
    "```\n",
    "In [ ]:   primes(6)\n",
    "Out [ ]: [2, 3, 5]\n",
    "```"
   ]
  },
  {
   "cell_type": "code",
   "execution_count": 4,
   "metadata": {},
   "outputs": [
    {
     "name": "stdout",
     "output_type": "stream",
     "text": [
      "[2, 3, 5]\n"
     ]
    }
   ],
   "source": [
    "def primes(n):\n",
    "   if n <2:\n",
    "      return\n",
    "\n",
    "   numbers = []\n",
    "   \n",
    "   for number in range(n + 1):\n",
    "      numbers.append(number)\n",
    "   numbers[1] = 0\n",
    "\n",
    "   for number in numbers:\n",
    "      if number == 0:\n",
    "         continue\n",
    "      \n",
    "      divider = number * number\n",
    "      while divider <= n:\n",
    "         numbers[divider] = 0\n",
    "         divider += number\n",
    "\n",
    "   return list(filter(lambda x: x != 0, numbers))\n",
    "\n",
    "print(primes(6))\n"
   ]
  },
  {
   "cell_type": "markdown",
   "metadata": {},
   "source": [
    "## Zadanie 3 _(5pt)_\n",
    "\n",
    "Napisz funkcje, ktÃ³ra usuwa wszystkie powtarzajÄ…ce siÄ™ elementy z listy (tak, Å¼e kaÅ¼dy element wystÄ™puje tylko raz) np. z listy `[1,1,2,2,2,3,3,5,5,5,4,4,4,0]` dostajemy `[1,2,3,5,4,0]`."
   ]
  },
  {
   "cell_type": "code",
   "execution_count": 5,
   "metadata": {},
   "outputs": [
    {
     "name": "stdout",
     "output_type": "stream",
     "text": [
      "[1, 2, 3, 5, 4, 0]\n"
     ]
    }
   ],
   "source": [
    "def filterRepeat(table):\n",
    "   output = []\n",
    "   for item in table:\n",
    "      if item not in output:\n",
    "         output.append(item)\n",
    "   return output\n",
    "\n",
    "table = [1,1,2,2,2,3,3,5,5,5,4,4,4,0]\n",
    "print(filterRepeat(table))"
   ]
  },
  {
   "cell_type": "markdown",
   "metadata": {},
   "source": [
    "## Zadanie 4 _(10pt)_\n",
    "\n",
    "Napisz funkcjÄ™ `prime_factors(n)`, ktÃ³ra rozkÅ‚ada $n$ na czynniki pierwsze i jako wynik wraca listÄ™ par $[(p_1,\\alpha_1), (p_2,\\alpha_2), \\ldots, (p_k, \\alpha_k)]$ takÄ…, Å¼e $p_1^{\\alpha_1}p_2^{\\alpha_2}\\ldots p_k^{\\alpha_k}$.\n"
   ]
  },
  {
   "cell_type": "code",
   "execution_count": 1,
   "metadata": {},
   "outputs": [
    {
     "name": "stdout",
     "output_type": "stream",
     "text": [
      "[(2, 5), (3, 8), (5, 2)]\n"
     ]
    }
   ],
   "source": [
    "def prime_factors(n):\n",
    "   factors = []\n",
    "\n",
    "   for divider in range(2, n):\n",
    "      power = 0\n",
    "      while n % divider == 0:\n",
    "         power += 1\n",
    "         n /= divider\n",
    "      \n",
    "      if power != 0:\n",
    "         factors.append((divider, power))\n",
    "\n",
    "   return factors\n",
    "\n",
    "#n = (3 ** 8) * (2 ** 5) * (5 ** 2)\n",
    "n = 5248800\n",
    "print(prime_factors(n))\n",
    "\n"
   ]
  },
  {
   "cell_type": "markdown",
   "metadata": {},
   "source": [
    "## Zadanie 5 _(10pt)_\n",
    "\n",
    "Napisz funkcjÄ™ `fraczero(n)` liczÄ…cÄ… silnie $n!$ dla $n$ od $0$ do $10000$ oraz jako wynik wraca liczbÄ™ zer na koÅ„cu $n!$."
   ]
  },
  {
   "cell_type": "code",
   "execution_count": 10,
   "metadata": {},
   "outputs": [
    {
     "name": "stdout",
     "output_type": "stream",
     "text": [
      "2499\n"
     ]
    }
   ],
   "source": [
    "def fraczero(n):\n",
    "   result = 1\n",
    "   for number in range(2, n + 1):\n",
    "      result *= number\n",
    "   \n",
    "   result = str(result)\n",
    "   \n",
    "   zeros = 0\n",
    "   for number in reversed(result):\n",
    "      if number != '0':\n",
    "         break\n",
    "      zeros += 1\n",
    "\n",
    "   return zeros\n",
    "\n",
    "print(fraczero(10000))\n"
   ]
  },
  {
   "cell_type": "markdown",
   "metadata": {},
   "source": [
    "## Zadanie 6 _(10pt)_\n",
    "\n",
    "Napisz program, ktÃ³ry generuje liczbÄ™ $20$ liczb losowych (rozkÅ‚ad jednostajny) od $1$ do $100$\n",
    "* WyÅ›wietl listÄ™ wygenerowanych liczb\n",
    "* WyÅ›wietl Å›redniÄ…\n",
    "* WyÅ›wietl najwiÄ™kszÄ… i najmniejszÄ… wartoÅ›Ä‡\n",
    "* WyÅ›wietl drugÄ… najwiÄ™kszÄ… i drugÄ… najmniejszÄ… wartoÅ›Ä‡ na liÅ›cie\n",
    "* WyÅ›wietl ile jest liczb parzystych na liÅ›cie\n",
    " "
   ]
  },
  {
   "cell_type": "code",
   "execution_count": 7,
   "metadata": {},
   "outputs": [
    {
     "name": "stdout",
     "output_type": "stream",
     "text": [
      "[8, 34, 14, 2, 7, 42, 6, 8, 49, 38, 87, 24, 64, 83, 37, 87, 36, 24, 79, 53]\n",
      "39\n",
      "('max: ', 87)\n",
      "('min: ', 2)\n",
      "('second max: ', 83)\n",
      "('second min: ', 6)\n",
      "('Even numbers: ', 12)\n",
      "()\n"
     ]
    }
   ],
   "source": [
    "import random\n",
    "\n",
    "randomNumbers = []\n",
    "summary = 0\n",
    "\n",
    "for probe in range(20):\n",
    "   number = random.randint(1, 100)\n",
    "   randomNumbers.append(number)\n",
    "   summary += number\n",
    "\n",
    "# Print list\n",
    "print(randomNumbers)\n",
    "\n",
    "# Print aveage value\n",
    "print(summary / len(randomNumbers))\n",
    "\n",
    "randomNumbers.sort()\n",
    "\n",
    "# Print max and min\n",
    "print(\"max: \", randomNumbers[-1])\n",
    "print(\"min: \", randomNumbers[0])\n",
    "\n",
    "# Print second max and second min\n",
    "secondMax = 0\n",
    "for number in reversed(randomNumbers):\n",
    "   if number != randomNumbers[-1]:\n",
    "      secondMax = number\n",
    "      break\n",
    "secondMin = 0\n",
    "for number in randomNumbers:\n",
    "   if number != randomNumbers[0]:\n",
    "      secondMin = number\n",
    "      break\n",
    "\n",
    "print(\"second max: \", secondMax)\n",
    "print(\"second min: \", secondMin)\n",
    "\n",
    "# Prind pair numbers in list\n",
    "evenCount = 0\n",
    "for number in randomNumbers:\n",
    "   if number % 2 == 0:\n",
    "      evenCount += 1\n",
    "\n",
    "print(\"Even numbers: \", evenCount)\n"
   ]
  },
  {
   "cell_type": "markdown",
   "metadata": {},
   "source": [
    "## Zadanie 7 _(10pt)_\n",
    "\n",
    "ZaÅ‚Ã³Å¼my, Å¼e mamy nastÄ™pujÄ…cÄ… listÄ™: `L = ['aababacaa', 'cabaabcca', 'aaabbcbacb', 'acababbaab', ...]` wygenerowanÄ… losowo tzn. lista zawiera losowe ciÄ…gi znakÃ³w o zadanej dÅ‚ugoÅ›ci z liter `'a'`, `'b'` i `'c'`. Takie wzorce wystÄ™pujÄ… w wielu miejscach np. sekwencje DNA. UÅ¼ytkownik zawiera swÃ³j (wzorzec) ciÄ…g znakÃ³w z literami i pustymi miejscami oznaczonymi przez `'*'` np. `\"a**a******\"`. Wykorzystaj sÅ‚ownik z kluczami zawierajÄ…cymi indeksy znakÃ³w rÃ³Å¼nych od `'*'` i wartoÅ›ciami liter z wzorca. Napisz program, ktÃ³ry znajduje wszystkie sekwencje z listy, ktÃ³re pasuje do podanego wzorca."
   ]
  },
  {
   "cell_type": "code",
   "execution_count": 10,
   "metadata": {},
   "outputs": [
    {
     "name": "stdout",
     "output_type": "stream",
     "text": [
      "['cacb', 'bcca', 'baac', 'acac', 'ccaa', 'abca', 'cacb', 'ccaa', 'baab', 'cbaa']\n",
      "Wpisz wzorzec: b\n"
     ]
    },
    {
     "ename": "NameError",
     "evalue": "name 'b' is not defined",
     "output_type": "error",
     "traceback": [
      "\u001b[0;31m---------------------------------------------------------------------------\u001b[0m",
      "\u001b[0;31mNameError\u001b[0m                                 Traceback (most recent call last)",
      "\u001b[0;32m<ipython-input-10-3338cc3a46db>\u001b[0m in \u001b[0;36m<module>\u001b[0;34m()\u001b[0m\n\u001b[1;32m     14\u001b[0m \u001b[0;34m\u001b[0m\u001b[0m\n\u001b[1;32m     15\u001b[0m \u001b[0;32mprint\u001b[0m\u001b[0;34m(\u001b[0m\u001b[0mwords\u001b[0m\u001b[0;34m)\u001b[0m\u001b[0;34m\u001b[0m\u001b[0m\n\u001b[0;32m---> 16\u001b[0;31m \u001b[0mpat\u001b[0m \u001b[0;34m=\u001b[0m \u001b[0mstr\u001b[0m\u001b[0;34m(\u001b[0m\u001b[0minput\u001b[0m\u001b[0;34m(\u001b[0m\u001b[0;34m\"Wpisz wzorzec: \"\u001b[0m\u001b[0;34m)\u001b[0m\u001b[0;34m)\u001b[0m\u001b[0;34m\u001b[0m\u001b[0m\n\u001b[0m\u001b[1;32m     17\u001b[0m \u001b[0;32mprint\u001b[0m\u001b[0;34m(\u001b[0m\u001b[0mpat\u001b[0m\u001b[0;34m)\u001b[0m\u001b[0;34m\u001b[0m\u001b[0m\n\u001b[1;32m     18\u001b[0m \u001b[0mdictionary\u001b[0m \u001b[0;34m=\u001b[0m \u001b[0;34m{\u001b[0m \u001b[0mk\u001b[0m\u001b[0;34m:\u001b[0m \u001b[0mv\u001b[0m \u001b[0;32mfor\u001b[0m \u001b[0mk\u001b[0m\u001b[0;34m,\u001b[0m \u001b[0mv\u001b[0m \u001b[0;32min\u001b[0m \u001b[0menumerate\u001b[0m\u001b[0;34m(\u001b[0m\u001b[0mpat\u001b[0m\u001b[0;34m)\u001b[0m \u001b[0;32mif\u001b[0m \u001b[0mv\u001b[0m \u001b[0;34m!=\u001b[0m \u001b[0;34m'*'\u001b[0m\u001b[0;34m}\u001b[0m\u001b[0;34m\u001b[0m\u001b[0m\n",
      "\u001b[0;32m/home/dam/.local/lib/python2.7/site-packages/ipykernel/ipkernel.pyc\u001b[0m in \u001b[0;36m<lambda>\u001b[0;34m(prompt)\u001b[0m\n\u001b[1;32m    174\u001b[0m             \u001b[0mself\u001b[0m\u001b[0;34m.\u001b[0m\u001b[0m_sys_eval_input\u001b[0m \u001b[0;34m=\u001b[0m \u001b[0mbuiltin_mod\u001b[0m\u001b[0;34m.\u001b[0m\u001b[0minput\u001b[0m\u001b[0;34m\u001b[0m\u001b[0m\n\u001b[1;32m    175\u001b[0m             \u001b[0mbuiltin_mod\u001b[0m\u001b[0;34m.\u001b[0m\u001b[0mraw_input\u001b[0m \u001b[0;34m=\u001b[0m \u001b[0mself\u001b[0m\u001b[0;34m.\u001b[0m\u001b[0mraw_input\u001b[0m\u001b[0;34m\u001b[0m\u001b[0m\n\u001b[0;32m--> 176\u001b[0;31m             \u001b[0mbuiltin_mod\u001b[0m\u001b[0;34m.\u001b[0m\u001b[0minput\u001b[0m \u001b[0;34m=\u001b[0m \u001b[0;32mlambda\u001b[0m \u001b[0mprompt\u001b[0m\u001b[0;34m=\u001b[0m\u001b[0;34m''\u001b[0m\u001b[0;34m:\u001b[0m \u001b[0meval\u001b[0m\u001b[0;34m(\u001b[0m\u001b[0mself\u001b[0m\u001b[0;34m.\u001b[0m\u001b[0mraw_input\u001b[0m\u001b[0;34m(\u001b[0m\u001b[0mprompt\u001b[0m\u001b[0;34m)\u001b[0m\u001b[0;34m)\u001b[0m\u001b[0;34m\u001b[0m\u001b[0m\n\u001b[0m\u001b[1;32m    177\u001b[0m         \u001b[0mself\u001b[0m\u001b[0;34m.\u001b[0m\u001b[0m_save_getpass\u001b[0m \u001b[0;34m=\u001b[0m \u001b[0mgetpass\u001b[0m\u001b[0;34m.\u001b[0m\u001b[0mgetpass\u001b[0m\u001b[0;34m\u001b[0m\u001b[0m\n\u001b[1;32m    178\u001b[0m         \u001b[0mgetpass\u001b[0m\u001b[0;34m.\u001b[0m\u001b[0mgetpass\u001b[0m \u001b[0;34m=\u001b[0m \u001b[0mself\u001b[0m\u001b[0;34m.\u001b[0m\u001b[0mgetpass\u001b[0m\u001b[0;34m\u001b[0m\u001b[0m\n",
      "\u001b[0;32m/home/dam/.local/lib/python2.7/site-packages/ipykernel/ipkernel.pyc\u001b[0m in \u001b[0;36m<module>\u001b[0;34m()\u001b[0m\n",
      "\u001b[0;31mNameError\u001b[0m: name 'b' is not defined"
     ]
    }
   ],
   "source": [
    "import random\n",
    "\n",
    "alphabet = ['a', 'b', 'c']\n",
    "wordLength = 4\n",
    "wordsCount = 10\n",
    "\n",
    "words = []\n",
    "for word in range(wordsCount):\n",
    "   string = ''\n",
    "   for letter in range(wordLength):\n",
    "      string += random.choice(alphabet)\n",
    "   \n",
    "   words.append(string)\n",
    "\n",
    "print(words)\n",
    "pat = str(input(\"Wpisz wzorzec: \"))\n",
    "print(pat)\n",
    "dictionary = { k: v for k, v in enumerate(pat) if v != '*'}\n",
    "\n",
    "print(dictionary)\n",
    "output = []\n",
    "for word in words:\n",
    "   add = True\n",
    "   for idx, value in dictionary.items():\n",
    "      if word[idx] != value:\n",
    "         add = False\n",
    "         break\n",
    "   if add == True: \n",
    "      output.append(word)\n",
    "\n",
    "print(output)\n",
    "\n"
   ]
  },
  {
   "cell_type": "markdown",
   "metadata": {},
   "source": [
    "## Zadanie 8 _(10pt)_\n",
    "\n",
    "Napisz program, ktÃ³ry konwerteruje liczby rzymskie na liczby arabskie. Do zapisu liczb rzymskich uÅ¼ywa\n",
    "siÄ™ 7 liter: `I=1`, `V=5`, `X=10`, `L=50`, `C=100`, `D=500`, `M=1000`. Opis algorytmu zamiany z i na system rzymski moÅ¼na znaleÅºÄ‡ np. [tutaj](http://www.algorytm.org/algorytmy-arytmetyczne/zamiana-z-i-na-system-rzymski.html)"
   ]
  },
  {
   "cell_type": "code",
   "execution_count": 3,
   "metadata": {},
   "outputs": [
    {
     "name": "stdout",
     "output_type": "stream",
     "text": [
      "Podal liczbę rzymską: M\n"
     ]
    },
    {
     "ename": "NameError",
     "evalue": "name 'M' is not defined",
     "output_type": "error",
     "traceback": [
      "\u001b[0;31m---------------------------------------------------------------------------\u001b[0m",
      "\u001b[0;31mNameError\u001b[0m                                 Traceback (most recent call last)",
      "\u001b[0;32m<ipython-input-3-1652499ed7a5>\u001b[0m in \u001b[0;36m<module>\u001b[0;34m()\u001b[0m\n\u001b[1;32m      9\u001b[0m }\n\u001b[1;32m     10\u001b[0m \u001b[0;34m\u001b[0m\u001b[0m\n\u001b[0;32m---> 11\u001b[0;31m \u001b[0mromeNumber\u001b[0m \u001b[0;34m=\u001b[0m \u001b[0minput\u001b[0m\u001b[0;34m(\u001b[0m\u001b[0;34m'Podal liczbę rzymską: '\u001b[0m\u001b[0;34m)\u001b[0m\u001b[0;34m\u001b[0m\u001b[0m\n\u001b[0m\u001b[1;32m     12\u001b[0m \u001b[0mvalue\u001b[0m \u001b[0;34m=\u001b[0m \u001b[0;36m0\u001b[0m\u001b[0;34m\u001b[0m\u001b[0m\n\u001b[1;32m     13\u001b[0m \u001b[0mlast\u001b[0m \u001b[0;34m=\u001b[0m \u001b[0;34m'I'\u001b[0m\u001b[0;34m\u001b[0m\u001b[0m\n",
      "\u001b[0;32m/home/dam/.local/lib/python2.7/site-packages/ipykernel/ipkernel.pyc\u001b[0m in \u001b[0;36m<lambda>\u001b[0;34m(prompt)\u001b[0m\n\u001b[1;32m    174\u001b[0m             \u001b[0mself\u001b[0m\u001b[0;34m.\u001b[0m\u001b[0m_sys_eval_input\u001b[0m \u001b[0;34m=\u001b[0m \u001b[0mbuiltin_mod\u001b[0m\u001b[0;34m.\u001b[0m\u001b[0minput\u001b[0m\u001b[0;34m\u001b[0m\u001b[0m\n\u001b[1;32m    175\u001b[0m             \u001b[0mbuiltin_mod\u001b[0m\u001b[0;34m.\u001b[0m\u001b[0mraw_input\u001b[0m \u001b[0;34m=\u001b[0m \u001b[0mself\u001b[0m\u001b[0;34m.\u001b[0m\u001b[0mraw_input\u001b[0m\u001b[0;34m\u001b[0m\u001b[0m\n\u001b[0;32m--> 176\u001b[0;31m             \u001b[0mbuiltin_mod\u001b[0m\u001b[0;34m.\u001b[0m\u001b[0minput\u001b[0m \u001b[0;34m=\u001b[0m \u001b[0;32mlambda\u001b[0m \u001b[0mprompt\u001b[0m\u001b[0;34m=\u001b[0m\u001b[0;34m''\u001b[0m\u001b[0;34m:\u001b[0m \u001b[0meval\u001b[0m\u001b[0;34m(\u001b[0m\u001b[0mself\u001b[0m\u001b[0;34m.\u001b[0m\u001b[0mraw_input\u001b[0m\u001b[0;34m(\u001b[0m\u001b[0mprompt\u001b[0m\u001b[0;34m)\u001b[0m\u001b[0;34m)\u001b[0m\u001b[0;34m\u001b[0m\u001b[0m\n\u001b[0m\u001b[1;32m    177\u001b[0m         \u001b[0mself\u001b[0m\u001b[0;34m.\u001b[0m\u001b[0m_save_getpass\u001b[0m \u001b[0;34m=\u001b[0m \u001b[0mgetpass\u001b[0m\u001b[0;34m.\u001b[0m\u001b[0mgetpass\u001b[0m\u001b[0;34m\u001b[0m\u001b[0m\n\u001b[1;32m    178\u001b[0m         \u001b[0mgetpass\u001b[0m\u001b[0;34m.\u001b[0m\u001b[0mgetpass\u001b[0m \u001b[0;34m=\u001b[0m \u001b[0mself\u001b[0m\u001b[0;34m.\u001b[0m\u001b[0mgetpass\u001b[0m\u001b[0;34m\u001b[0m\u001b[0m\n",
      "\u001b[0;32m/home/dam/.local/lib/python2.7/site-packages/ipykernel/ipkernel.pyc\u001b[0m in \u001b[0;36m<module>\u001b[0;34m()\u001b[0m\n",
      "\u001b[0;31mNameError\u001b[0m: name 'M' is not defined"
     ]
    }
   ],
   "source": [
    "romes = {\n",
    "   'I': 1,\n",
    "   'V': 5,\n",
    "   'X': 10,\n",
    "   'L': 50,\n",
    "   'C': 100,\n",
    "   'D': 500,\n",
    "   'M': 1000\n",
    "}\n",
    "\n",
    "romeNumber = str(input('Podal liczbę rzymską: '))\n",
    "value = 0\n",
    "last = 'I'\n",
    "\n",
    "for number in reversed(romeNumber):\n",
    "   if romes.get(last) <= romes.get(number):\n",
    "      last = number\n",
    "      value += romes.get(number)\n",
    "   else:\n",
    "      value -= romes.get(number)\n",
    "\n",
    "print(value)\n"
   ]
  },
  {
   "cell_type": "markdown",
   "metadata": {},
   "source": [
    "## Zadanie 9* _(5pt)_\n",
    "\n",
    "Napisz program kalkulator, ktÃ³ry pobiera wprowadzone wartoÅ›ci oraz funkcje z klawiatury nastÄ™pnie podaje wynik. W przypadku bÅ‚Ä™dnych danych zgÅ‚asza bÅ‚Ä…d.\n",
    "\n",
    "PrzykÅ‚adowa sesja:\n",
    "```\n",
    "    Kalkulator\n",
    "    [1]: 2+5*10\n",
    "        52\n",
    "    [2]: sin(0.5)+cos(0.3)\n",
    "        1.434762027729809\n",
    "    [3]: 2^100\n",
    "        1267650600228229401496703205376\n",
    "```\n",
    "\n",
    "PrzykÅ‚adowy kod pobierania danych od uÅ¼ytkownika:\n",
    "\n",
    "```\n",
    "    x = input('Podaj x = ')\n",
    "```"
   ]
  },
  {
   "cell_type": "code",
   "execution_count": null,
   "metadata": {},
   "outputs": [],
   "source": [
    "from math import *\n",
    "\n",
    "while True:\n",
    "   try:\n",
    "      task = input('>>')\n",
    "      print(round(eval(task), 10))\n",
    "   except NameError:\n",
    "      print(\"Podano niepoprawne dane\")\n",
    "\n"
   ]
  },
  {
   "cell_type": "markdown",
   "metadata": {},
   "source": [
    "\n",
    "## Zadanie 10* _(10pt)_\n",
    "\n",
    "Napisz program, ktÃ³ry rysuje na ekranie w trybie znakowym wykres funkcji zmiennej $x$. WskazÃ³wka: utwÃ³rz  ,,tablicÄ™ dwuwymiarowÄ…'' o wymiarach 80x24 i narysuj wykres w tej tablicy. NastÄ™pnie wynik wyÅ›wietl na ekranie.\n",
    "\n",
    "```\n",
    "        Podaj funkcje f(x) = sin(x)\n",
    "        Podaj poczÄ…tek przedziaÅ‚u a = -pi\n",
    "        Podaj koniec przedziaÅ‚u b = pi\n",
    "                                                |\n",
    "                                                |\n",
    "                                                |              ***********\n",
    "                                                |           ***           ***\n",
    "                                                |         **                 **\n",
    "                                                |        *                     *\n",
    "                                                |      **                       **\n",
    "                                                |     *                           *\n",
    "                                                |   **                             **\n",
    "                                                |  *                                 *\n",
    "                                                | *                                   *\n",
    "                                                |*                                     *\n",
    "        ----------------------------------------|---------------------------------------\n",
    "          *                                   * |\n",
    "           *                                 *  |\n",
    "            **                             **   |\n",
    "              *                           *     |\n",
    "               **                       **      |\n",
    "                 *                     *        |\n",
    "                  **                 **         |\n",
    "                    ***           ***           |\n",
    "                       ***** *****              |\n",
    "                            *                   |\n",
    "                                                |\n",
    "```"
   ]
  },
  {
   "cell_type": "code",
   "execution_count": null,
   "metadata": {},
   "outputs": [],
   "source": [
    "from math import *\n",
    "\n",
    "chart = []\n",
    "for x in range(24):\n",
    "   chart.append([])\n",
    "   for y in range(80):\n",
    "      chart[x].append(' ')\n",
    "\n",
    "function = input(\"Podaj funkcje f(x) = \")\n",
    "begin = eval(input(\"Podaj początek przedziału a = \"))\n",
    "end = eval(input(\"Podaj koniec przedziału b = \"))\n",
    "\n",
    "chartLen = end - begin\n",
    "chartDivider = chartLen / 80\n",
    "\n",
    "# Get all values\n",
    "values = []\n",
    "maximum = None\n",
    "minimum = None\n",
    "for idx in range(len(chart[0])):\n",
    "   x = begin + idx * chartDivider\n",
    "   exec('x=' + str(x))\n",
    "   y = eval(function)\n",
    "   if maximum == None:\n",
    "      maximum = y\n",
    "      minimum = y\n",
    "   maximum = max(maximum, y)\n",
    "   minimum = min(minimum, y)\n",
    "   values.append(y)\n",
    "\n",
    "if maximum == minimum:\n",
    "   maximum = maximum + 5\n",
    "   minimum = minimum - 5\n",
    "\n",
    "# Get center\n",
    "chartHeight = maximum - minimum\n",
    "centerVert = -1\n",
    "if maximum * minimum < 0:\n",
    "   centerVert = abs(minimum) / chartHeight\n",
    "   centerVert = round(centerVert * 24) - 1 \n",
    "elif maximum * minimum == 0:\n",
    "   centerVert = 0\n",
    "   if minimum == 0:\n",
    "      centerVert = 23\n",
    "centerDiag = -1\n",
    "if begin * end < 0:\n",
    "   centerDiag = abs(begin) / chartLen\n",
    "   centerDiag = round(centerDiag * 80) - 1 \n",
    "elif begin * end == 0:\n",
    "   centerDiag = 0\n",
    "   if end == 0:\n",
    "      centerDiag = 79\n",
    "\n",
    "if centerVert != -1:\n",
    "   for col in range(len(chart[centerVert])):\n",
    "      chart[centerVert][col] = '-'\n",
    "if centerDiag != -1:\n",
    "   for row in range(len(chart)):\n",
    "      chart[row][centerDiag] = '|'\n",
    "\n",
    "\n",
    "# Print values\n",
    "averageValue = round((maximum + minimum) / 2)\n",
    "verticalDivider = chartHeight / 22\n",
    "\n",
    "for idx, value in enumerate(values):\n",
    "   pointsVert = centerVert - round(value / verticalDivider)\n",
    "   chart[pointsVert][idx] = '*'\n",
    "\n",
    "for row in chart:\n",
    "   for col in row:\n",
    "      print(col, end='')\n",
    "   print()\n"
   ]
  },
  {
   "cell_type": "code",
   "execution_count": null,
   "metadata": {},
   "outputs": [],
   "source": []
  },
  {
   "cell_type": "code",
   "execution_count": null,
   "metadata": {},
   "outputs": [],
   "source": []
  }
 ],
 "metadata": {
  "kernelspec": {
   "display_name": "Python 2",
   "language": "python",
   "name": "python2"
  }
 },
 "nbformat": 4,
 "nbformat_minor": 2
}
